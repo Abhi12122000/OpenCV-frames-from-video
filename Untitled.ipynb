{
 "cells": [
  {
   "cell_type": "code",
   "execution_count": null,
   "metadata": {},
   "outputs": [],
   "source": [
    "import cv2"
   ]
  },
  {
   "cell_type": "code",
   "execution_count": null,
   "metadata": {},
   "outputs": [],
   "source": [
    "cap = cv2.VideoCapture(\"Train Tom and jerry.mp4\") #VideoCapture is an OpenCV class to work on videos, and here, \n",
    "                                        #we create an instance(cap) of the class VideoCapture\n",
    "    \n",
    "i=1                                     #counter variable which will be used to keep check of no. of frames elapsed\n",
    "\n",
    "while(cap.isOpened()):                  #\"cap\" object has a function \"isOpened()\", which tells if the video associated with the\n",
    "                                        #object is running or not  \n",
    "    \n",
    "    \n",
    "    success, frame = cap.read()     #the object (cap) has a function \"read()\",which returns 2 values,a boolean variable \n",
    "                                #to check if a frame could be succesfully read or not(to check f video exists/has ended/etc...)\n",
    "                                #the current frame that has been read\n",
    "            \n",
    "    if success == False:            #if o frame has been returned by cap.read(), we exit the loop(i.e. video has ended)\n",
    "        break\n",
    "        \n",
    "        \n",
    "    cv2.imshow(\"frame\",frame)         #this is the opencv function to display the image called frame, in an external window \n",
    "                                      #called \"frame\"\n",
    "    \n",
    "\n",
    "    fps = cap.get(cv2.CAP_PROP_FPS)    # a function of cap object of Videocapture class that gets the frames per second\n",
    "    \n",
    "    if(i%fps==0):                      #if we encounter the frame after a second (ones which we want to save)\n",
    "        cv2.imwrite(\"frameid%d.jpg\" % (i/fps),frame)        #saving the image as \"frameid1,jpg\", \"frameid2.jpg\", etc.\n",
    "    i = i+1                            #incrementing counter to read next frame\n",
    "    \n",
    "    if cv2.waitKey(1) & 0xFF==ord('q'):    #these commands are used to exit the video which is running,\n",
    "        break                               #here, if \"q\" is pressed, the while loop will be exited.\n",
    "\n",
    "        \n",
    "cap.release()                           #this is to release the memory resources held by the cap object, \n",
    "                                        #so that these resources are made free for further use in the project\n",
    "cv2.destroyAllWindows()                 #this if necessary to destroy image windows after the work    "
   ]
  },
  {
   "cell_type": "code",
   "execution_count": null,
   "metadata": {},
   "outputs": [],
   "source": [
    "from keras.preprocessing.image import ImageDataGenerator"
   ]
  },
  {
   "cell_type": "code",
   "execution_count": null,
   "metadata": {},
   "outputs": [],
   "source": [
    "import pandas as pd"
   ]
  },
  {
   "cell_type": "code",
   "execution_count": null,
   "metadata": {},
   "outputs": [],
   "source": [
    "train_df = pd.read_csv(\"Train.csv\")\n",
    "valid_df = pd.read_csv(\"Test.csv\")"
   ]
  },
  {
   "cell_type": "code",
   "execution_count": null,
   "metadata": {},
   "outputs": [],
   "source": [
    "valid_df.head()"
   ]
  },
  {
   "cell_type": "code",
   "execution_count": null,
   "metadata": {},
   "outputs": [],
   "source": [
    "def preprocessing_input(image):\n",
    "    pass                       ### here, we will be applying Haar Cascade classifier to detect bounding boxes outside the faces of Tom and Jerry\n",
    "                               ### we will use this function in the ImageDataGenerator class that we have built in the next cell"
   ]
  },
  {
   "cell_type": "code",
   "execution_count": null,
   "metadata": {},
   "outputs": [],
   "source": [
    "train_datagen = ImageDataGenerator(rescale=1./255, shear_range=0.2, zoom_range=0.2, horizontal_flip=True,preprocessing_function=preprocessing_input)\n",
    "\n",
    "\n",
    "train_generator = train_datagen.flow_from_dataframe(dataframe=train_df, directory='data/train', x_col=\"Frame_ID\", y_col=\"Emotion\", target_size=(150, 150), batch_size=32, class_mode='categorical')\n",
    "\n",
    "\n",
    "## the images will be obtained in batches of 32 images each, from the \"data/train\" directory, in which they were to be stored.\n",
    "##These will be mapped to the dataframe column names provided, using the \"dataframe\" and \"x_col\",\"ycol\" arguments of flow_from_dataframe. The train_generator will generate Xtrain_batch and ytrain_batch in batches of 32 images and their labels, after applying the data augentation provided in ImageDataGenerator class.\n",
    "##Similar for valid_generator"
   ]
  },
  {
   "cell_type": "code",
   "execution_count": null,
   "metadata": {},
   "outputs": [],
   "source": [
    "## Now create the convolutional model"
   ]
  }
 ],
 "metadata": {
  "kernelspec": {
   "display_name": "Python [conda env:Abhishek] *",
   "language": "python",
   "name": "conda-env-Abhishek-py"
  },
  "language_info": {
   "codemirror_mode": {
    "name": "ipython",
    "version": 3
   },
   "file_extension": ".py",
   "mimetype": "text/x-python",
   "name": "python",
   "nbconvert_exporter": "python",
   "pygments_lexer": "ipython3",
   "version": "3.7.6"
  }
 },
 "nbformat": 4,
 "nbformat_minor": 4
}
