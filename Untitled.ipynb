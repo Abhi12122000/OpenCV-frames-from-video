{
 "cells": [
  {
   "cell_type": "code",
   "execution_count": 9,
   "metadata": {},
   "outputs": [],
   "source": [
    "import cv2"
   ]
  },
  {
   "cell_type": "code",
   "execution_count": 10,
   "metadata": {},
   "outputs": [],
   "source": [
    "cap = cv2.VideoCapture(\"videoname.mp4\") #VideoCapture is an OpenCV class to work on videos, and here, \n",
    "                                        #we create an instance(cap) of the class VideoCapture\n",
    "    \n",
    "i=1                                     #counter variable which will be used to keep check of no. of frames elapsed\n",
    "\n",
    "while(cap.isOpened()):                  #\"cap\" object has a function \"isOpened()\", which tells if the video associated with the\n",
    "                                        #object is running or not  \n",
    "    \n",
    "    \n",
    "    success, frame = cap.read()     #the object (cap) has a function \"read()\",which returns 2 values,a boolean variable \n",
    "                                #to check if a frame could be succesfully read or not(to check f video exists/has ended/etc...)\n",
    "                                #the current frame that has been read\n",
    "            \n",
    "    if success == False:            #if o frame has been returned by cap.read(), we exit the loop(i.e. video has ended)\n",
    "        break\n",
    "        \n",
    "        \n",
    "    cv2.imshow(\"frame\",frame)         #this is the opencv function to display the image called frame, in an external window \n",
    "                                      #called \"frame\"\n",
    "    \n",
    "\n",
    "    fps = cap.get(cv2.CAP_PROP_FPS)    # a function of cap object of Videocapture class that gets the frames per second\n",
    "    \n",
    "    if(i%fps==0):                      #if we encounter the frame after a second (ones which we want to save)\n",
    "        cv2.imwrite(\"frameid%d.jpg\" % (i/fps),frame)        #saving the image as \"frameid1,jpg\", \"frameid2.jpg\", etc.\n",
    "    i = i+1                            #incrementing counter to read next frame\n",
    "    \n",
    "    if cv2.waitKey(1) & 0xFF==ord('q'):    #these commands are used to exit the video which is running,\n",
    "        break                               #here, if \"q\" is pressed, the while loop will be exited.\n",
    "\n",
    "        \n",
    "cap.release()                           #this is to release the memory resources held by the cap object, \n",
    "                                        #so that these resources are made free for further use in the project\n",
    "cv2.destroyAllWindows()                 #this if necessary to destroy image windows after the work    "
   ]
  },
  {
   "cell_type": "code",
   "execution_count": null,
   "metadata": {},
   "outputs": [],
   "source": []
  }
 ],
 "metadata": {
  "kernelspec": {
   "display_name": "Python [conda env:Abhishek] *",
   "language": "python",
   "name": "conda-env-Abhishek-py"
  },
  "language_info": {
   "codemirror_mode": {
    "name": "ipython",
    "version": 3
   },
   "file_extension": ".py",
   "mimetype": "text/x-python",
   "name": "python",
   "nbconvert_exporter": "python",
   "pygments_lexer": "ipython3",
   "version": "3.7.6"
  }
 },
 "nbformat": 4,
 "nbformat_minor": 4
}
